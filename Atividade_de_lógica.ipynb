{
  "nbformat": 4,
  "nbformat_minor": 0,
  "metadata": {
    "colab": {
      "provenance": [],
      "include_colab_link": true
    },
    "kernelspec": {
      "name": "python3",
      "display_name": "Python 3"
    },
    "language_info": {
      "name": "python"
    }
  },
  "cells": [
    {
      "cell_type": "markdown",
      "metadata": {
        "id": "view-in-github",
        "colab_type": "text"
      },
      "source": [
        "<a href=\"https://colab.research.google.com/github/ana19945/Logic-activity/blob/main/Atividade_de_l%C3%B3gica.ipynb\" target=\"_parent\"><img src=\"https://colab.research.google.com/assets/colab-badge.svg\" alt=\"Open In Colab\"/></a>"
      ]
    },
    {
      "cell_type": "markdown",
      "source": [
        "#Desenvolva 03 soluções em Python para atender os requisitos abaixo. Após a conclusão da atividade faça a compactação dos projetos e anexe o arquivo ao final da página."
      ],
      "metadata": {
        "id": "-cJpZOVI5hIt"
      }
    },
    {
      "cell_type": "code",
      "source": [
        "x = [2, 9, 1, 5]\n",
        "i = 1\n",
        "j = 2\n",
        "i, x[i] = j * 2 - x[j] ** 2, 0\n",
        "print(x)"
      ],
      "metadata": {
        "colab": {
          "base_uri": "https://localhost:8080/"
        },
        "id": "k8U9Rk3wRX51",
        "outputId": "ef4a909f-0dfc-4520-9e39-1256cbb5f589"
      },
      "execution_count": null,
      "outputs": [
        {
          "output_type": "stream",
          "name": "stdout",
          "text": [
            "[2, 9, 1, 0]\n"
          ]
        }
      ]
    },
    {
      "cell_type": "code",
      "source": [
        "a = 3\n",
        "\n",
        "b = a * 2\n",
        "\n",
        "a, b = b, a\n",
        "print(a)"
      ],
      "metadata": {
        "colab": {
          "base_uri": "https://localhost:8080/"
        },
        "id": "AcWKNnRMRk02",
        "outputId": "e4f797c4-2324-4c67-8284-c2f8015ffcf6"
      },
      "execution_count": null,
      "outputs": [
        {
          "output_type": "stream",
          "name": "stdout",
          "text": [
            "6\n"
          ]
        }
      ]
    },
    {
      "cell_type": "code",
      "source": [
        "a, b = 0, 2\n",
        "\n",
        "while b < 20:\n",
        "\n",
        "    a, b = b, a+b+1\n",
        "\n",
        "    print(b)"
      ],
      "metadata": {
        "colab": {
          "base_uri": "https://localhost:8080/"
        },
        "id": "A2OEp4YGRyCA",
        "outputId": "2c50ec96-a03a-41a0-dc1b-0dc6b5ab4099"
      },
      "execution_count": null,
      "outputs": [
        {
          "output_type": "stream",
          "name": "stdout",
          "text": [
            "3\n",
            "6\n",
            "10\n",
            "17\n",
            "28\n"
          ]
        }
      ]
    },
    {
      "cell_type": "code",
      "source": [
        "minha_lista = [0, 5, 10, 15, 20, 25, 30]\n",
        "filtro = lambda x: x > 30\n",
        "minha_lista_filtrada = filter(filtro, minha_lista)\n",
        "print(list(minha_lista_filtrada))"
      ],
      "metadata": {
        "colab": {
          "base_uri": "https://localhost:8080/"
        },
        "id": "dC4DUUORSNf6",
        "outputId": "71b4edf3-3452-4119-bffd-0214d458e152"
      },
      "execution_count": null,
      "outputs": [
        {
          "output_type": "stream",
          "name": "stdout",
          "text": [
            "[]\n"
          ]
        }
      ]
    },
    {
      "cell_type": "markdown",
      "source": [
        "#Ler 2 números, multiplica-los e apresentar o resultado caso seja o maior que 15."
      ],
      "metadata": {
        "id": "Hb7-dzwd6HXY"
      }
    },
    {
      "cell_type": "code",
      "source": [
        "### Leitura de números e classificação de resultados\n",
        "### Utilizando condições if e else\n",
        "\n",
        "n1 = float(input('Digite o 1° número: '))\n",
        "n2 = float(input('Digite o 2° número: '))\n",
        "\n",
        "m = n1 * n2\n",
        "if m>= 15:\n",
        "   print('A multiplicação dos números é igual à {:.1f}'.format(m))\n",
        "else:\n",
        "    print('Resultado igual ou menor à 15. ')\n",
        ""
      ],
      "metadata": {
        "colab": {
          "base_uri": "https://localhost:8080/"
        },
        "id": "Qi4W3I41I3Oe",
        "outputId": "c148be67-d2bc-4702-fb9f-68f7b49ad70a"
      },
      "execution_count": null,
      "outputs": [
        {
          "output_type": "stream",
          "name": "stdout",
          "text": [
            "Digite o 1° número: 9\n",
            "Digite o 2° número: 5\n",
            "A multiplicação dos números é igual à 45.0\n"
          ]
        }
      ]
    },
    {
      "cell_type": "markdown",
      "source": [
        "#Ler 4 números. Calcular as expressões: soma dos 2 últimos e multiplicação dos dois primeiros. Se a multiplicação dos 2 primeiros for impar exibir “a”. Se a soma dos dois últimos for par exibir “b”."
      ],
      "metadata": {
        "id": "D9qit-hR6JWa"
      }
    },
    {
      "cell_type": "code",
      "source": [
        "### Cálculos de 4 números inteiros sendo soma entre os 2 últimos e multiplicação dos 2 primeiros\n",
        "### Utilizando as condições if e elif para classificar entre par ou ímpar\n",
        "\n",
        "print('4567')\n",
        "m = 4 * 5\n",
        "s = 6 + 7\n",
        "resultado = m % 2\n",
        "resultado2 = s % 2\n",
        "print('A soma entre os últimos números é igual à {} e a multiplicação dos primeiros números igual à {}'.format(s, m))\n",
        "if resultado == 0:\n",
        "  print('A multiplicação está para a, sendo par.'.format(resultado))\n",
        "elif resultado2 == 1:\n",
        "  print('A soma está para b, sendo ímpar.'.format(resultado2))"
      ],
      "metadata": {
        "colab": {
          "base_uri": "https://localhost:8080/"
        },
        "id": "ld_3Lh2SLnnw",
        "outputId": "9550f823-af53-45cc-bc20-31b306af0906"
      },
      "execution_count": null,
      "outputs": [
        {
          "output_type": "stream",
          "name": "stdout",
          "text": [
            "4567\n",
            "A soma entre os últimos números é igual à 13 e a multiplicação dos primeiros números igual à 20\n",
            "A multiplicação está para a, sendo par.\n"
          ]
        }
      ]
    },
    {
      "cell_type": "markdown",
      "source": [
        "# Ler 2 números de um alunos. Calcular a média e exibir se o aluno foi aprovado ou reprovado ou aonde se está de exame. Se a média for maior ou igual a 6,0 o aluno estará aprovado, caso contrário se a média for igual a 4,0 mas menor que 6,0 então o aluno estará de exame. Caso contrário estará reprovado.\n"
      ],
      "metadata": {
        "id": "NGN0lzvTcD-O"
      }
    },
    {
      "cell_type": "code",
      "source": [
        "### Calculando a média de alunos e classificando por aprovado, reprovado e de recuperação\n",
        "### Utilizando as condições\n",
        "\n",
        "notas_1 = float(input('Digite a 1° nota: '))\n",
        "notas_2 = float(input('Digite a 2° nota: '))\n",
        "\n",
        "c = ( notas_1 + notas_2 ) / 2\n",
        "if c >= 6.0:\n",
        "  print('Parabéns, você foi aprovado, sua média final é {}!'.format(c))\n",
        "elif 6.0 > c > 4.0:\n",
        "  print('Você está de recuperação. Sua média final é {}'.format(c))\n",
        "else:\n",
        "  print('Infelizmente você foi reprovado. Sua média final é {}'.format(c))"
      ],
      "metadata": {
        "id": "QxAorX4rcM8A",
        "colab": {
          "base_uri": "https://localhost:8080/"
        },
        "outputId": "7bbcf013-061d-4d4d-da47-9b326324fb36"
      },
      "execution_count": null,
      "outputs": [
        {
          "output_type": "stream",
          "name": "stdout",
          "text": [
            "Digite a 1° nota: 10\n",
            "Digite a 2° nota: 4.5\n",
            "Parabéns, você foi aprovado, sua média final é 7.25!\n"
          ]
        }
      ]
    }
  ]
}